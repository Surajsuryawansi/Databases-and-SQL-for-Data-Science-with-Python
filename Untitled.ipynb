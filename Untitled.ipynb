{
 "cells": [
  {
   "cell_type": "code",
   "execution_count": 1,
   "id": "7bf74749-57a6-47a6-a8b1-0eba7ea329b6",
   "metadata": {},
   "outputs": [],
   "source": [
    "%load_ext sql"
   ]
  },
  {
   "cell_type": "code",
   "execution_count": 2,
   "id": "b297898b-0e3d-4786-b6c6-10d92bde8ecc",
   "metadata": {},
   "outputs": [
    {
     "data": {
      "text/plain": [
       "'Connected: gxh99884@bludb'"
      ]
     },
     "execution_count": 2,
     "metadata": {},
     "output_type": "execute_result"
    }
   ],
   "source": [
    "%sql ibm_db_sa://gxh99884:8HQre2FFusrkd32G@54a2f15b-5c0f-46df-8954-7e38e612c2bd.c1ogj3sd0tgtu0lqde00.databases.appdomain.cloud:32733/bludb?security=SSL"
   ]
  },
  {
   "cell_type": "markdown",
   "id": "e7fc4515-7a36-4790-9f9b-0b4039e756a1",
   "metadata": {},
   "source": [
    "# QUATION 1"
   ]
  },
  {
   "cell_type": "code",
   "execution_count": 3,
   "id": "6f3f5abd-5758-4e1b-bb3e-a035809a0cb9",
   "metadata": {},
   "outputs": [
    {
     "name": "stdout",
     "output_type": "stream",
     "text": [
      " * ibm_db_sa://gxh99884:***@54a2f15b-5c0f-46df-8954-7e38e612c2bd.c1ogj3sd0tgtu0lqde00.databases.appdomain.cloud:32733/bludb\n",
      "Done.\n"
     ]
    },
    {
     "data": {
      "text/html": [
       "<table>\n",
       "    <thead>\n",
       "        <tr>\n",
       "            <th>name_of_school</th>\n",
       "            <th>community_area_name</th>\n",
       "            <th>average_student_attendance</th>\n",
       "        </tr>\n",
       "    </thead>\n",
       "    <tbody>\n",
       "        <tr>\n",
       "            <td>George Washington Carver Military Academy High School</td>\n",
       "            <td>RIVERDALE</td>\n",
       "            <td>91.60%</td>\n",
       "        </tr>\n",
       "        <tr>\n",
       "            <td>George Washington Carver Primary School</td>\n",
       "            <td>RIVERDALE</td>\n",
       "            <td>90.90%</td>\n",
       "        </tr>\n",
       "        <tr>\n",
       "            <td>Ira F Aldridge Elementary School</td>\n",
       "            <td>RIVERDALE</td>\n",
       "            <td>92.90%</td>\n",
       "        </tr>\n",
       "        <tr>\n",
       "            <td>William E B Dubois Elementary School</td>\n",
       "            <td>RIVERDALE</td>\n",
       "            <td>93.30%</td>\n",
       "        </tr>\n",
       "    </tbody>\n",
       "</table>"
      ],
      "text/plain": [
       "[('George Washington Carver Military Academy High School', 'RIVERDALE', '91.60%'),\n",
       " ('George Washington Carver Primary School', 'RIVERDALE', '90.90%'),\n",
       " ('Ira F Aldridge Elementary School', 'RIVERDALE', '92.90%'),\n",
       " ('William E B Dubois Elementary School', 'RIVERDALE', '93.30%')]"
      ]
     },
     "execution_count": 3,
     "metadata": {},
     "output_type": "execute_result"
    }
   ],
   "source": [
    "%%sql\n",
    "select P.NAME_OF_SCHOOL,P.COMMUNITY_AREA_NAME,P.AVERAGE_STUDENT_ATTENDANCE \n",
    "from PUBLIC_SCHOOLS P LEFT OUTER JOIN Census_Data C ON \n",
    "P.COMMUNITY_AREA_NUMBER = C.COMMUNITY_AREA_NUMBER \n",
    "WHERE HARDSHIP_INDEX = 98 ;"
   ]
  },
  {
   "cell_type": "markdown",
   "id": "a661f8df-e87a-413a-baef-432032727945",
   "metadata": {},
   "source": [
    "# QUATION 1.2"
   ]
  },
  {
   "cell_type": "code",
   "execution_count": 4,
   "id": "19b59807-e657-49af-a4cc-19e5ed0b4bc9",
   "metadata": {},
   "outputs": [
    {
     "name": "stdout",
     "output_type": "stream",
     "text": [
      " * ibm_db_sa://gxh99884:***@54a2f15b-5c0f-46df-8954-7e38e612c2bd.c1ogj3sd0tgtu0lqde00.databases.appdomain.cloud:32733/bludb\n",
      "Done.\n"
     ]
    },
    {
     "data": {
      "text/html": [
       "<table>\n",
       "    <thead>\n",
       "        <tr>\n",
       "            <th>case_number</th>\n",
       "            <th>primary_type</th>\n",
       "            <th>community_area_name</th>\n",
       "        </tr>\n",
       "    </thead>\n",
       "    <tbody>\n",
       "        <tr>\n",
       "            <td>HK577020</td>\n",
       "            <td>NARCOTICS</td>\n",
       "            <td>Rogers Park</td>\n",
       "        </tr>\n",
       "        <tr>\n",
       "            <td>HL725506</td>\n",
       "            <td>BATTERY</td>\n",
       "            <td>Lincoln Square</td>\n",
       "        </tr>\n",
       "        <tr>\n",
       "            <td>HH639427</td>\n",
       "            <td>BATTERY</td>\n",
       "            <td>Austin</td>\n",
       "        </tr>\n",
       "        <tr>\n",
       "            <td>HS200939</td>\n",
       "            <td>CRIMINAL DAMAGE</td>\n",
       "            <td>Austin</td>\n",
       "        </tr>\n",
       "        <tr>\n",
       "            <td>HT315369</td>\n",
       "            <td>ASSAULT</td>\n",
       "            <td>East Garfield Park</td>\n",
       "        </tr>\n",
       "        <tr>\n",
       "            <td>HP716225</td>\n",
       "            <td>BATTERY</td>\n",
       "            <td>Douglas</td>\n",
       "        </tr>\n",
       "        <tr>\n",
       "            <td>HL353697</td>\n",
       "            <td>BATTERY</td>\n",
       "            <td>South Shore</td>\n",
       "        </tr>\n",
       "        <tr>\n",
       "            <td>HS305355</td>\n",
       "            <td>NARCOTICS</td>\n",
       "            <td>Brighton Park</td>\n",
       "        </tr>\n",
       "        <tr>\n",
       "            <td>JA460432</td>\n",
       "            <td>BATTERY</td>\n",
       "            <td>Ashburn</td>\n",
       "        </tr>\n",
       "        <tr>\n",
       "            <td>HR585012</td>\n",
       "            <td>CRIMINAL TRESPA</td>\n",
       "            <td>Ashburn</td>\n",
       "        </tr>\n",
       "        <tr>\n",
       "            <td>HH292682</td>\n",
       "            <td>PUBLIC PEACE VI</td>\n",
       "            <td>None</td>\n",
       "        </tr>\n",
       "        <tr>\n",
       "            <td>G635735</td>\n",
       "            <td>PUBLIC PEACE VI</td>\n",
       "            <td>None</td>\n",
       "        </tr>\n",
       "    </tbody>\n",
       "</table>"
      ],
      "text/plain": [
       "[('HK577020', 'NARCOTICS', 'Rogers Park'),\n",
       " ('HL725506', 'BATTERY', 'Lincoln Square'),\n",
       " ('HH639427', 'BATTERY', 'Austin'),\n",
       " ('HS200939', 'CRIMINAL DAMAGE', 'Austin'),\n",
       " ('HT315369', 'ASSAULT', 'East Garfield Park'),\n",
       " ('HP716225', 'BATTERY', 'Douglas'),\n",
       " ('HL353697', 'BATTERY', 'South Shore'),\n",
       " ('HS305355', 'NARCOTICS', 'Brighton Park'),\n",
       " ('JA460432', 'BATTERY', 'Ashburn'),\n",
       " ('HR585012', 'CRIMINAL TRESPA', 'Ashburn'),\n",
       " ('HH292682', 'PUBLIC PEACE VI', None),\n",
       " ('G635735', 'PUBLIC PEACE VI', None)]"
      ]
     },
     "execution_count": 4,
     "metadata": {},
     "output_type": "execute_result"
    }
   ],
   "source": [
    "%%sql\n",
    "SELECT CASE_NUMBER,PRIMARY_TYPE,COMMUNITY_AREA_NAME\n",
    "FROM Crime_Data  LEFT OUTER JOIN Census_Data  ON \n",
    "Crime_Data.COMMUNITY_AREA_NUMBER = Census_Data.COMMUNITY_AREA_NUMBER\n",
    "WHERE Crime_Data.LOCATION_DESCRIPTION LIKE '%SCHOOL%';"
   ]
  },
  {
   "cell_type": "markdown",
   "id": "2f037b8e-0e29-4c70-b86b-9746710d7b43",
   "metadata": {},
   "source": [
    "# QUATION 2"
   ]
  },
  {
   "cell_type": "code",
   "execution_count": 14,
   "id": "b623dcfb-621b-42cc-93ed-e86b1aaf3b1f",
   "metadata": {},
   "outputs": [
    {
     "name": "stdout",
     "output_type": "stream",
     "text": [
      " * ibm_db_sa://gxh99884:***@54a2f15b-5c0f-46df-8954-7e38e612c2bd.c1ogj3sd0tgtu0lqde00.databases.appdomain.cloud:32733/bludb\n",
      "Done.\n"
     ]
    },
    {
     "data": {
      "text/plain": [
       "[]"
      ]
     },
     "execution_count": 14,
     "metadata": {},
     "output_type": "execute_result"
    }
   ],
   "source": [
    "%%sql create view RATING_TABLE2 (School_Name,Safety_Rating,Family_Rating,Environment_Rating,Instruction_Rating,Leaders_Rating,Teachers_Rating)\n",
    "       AS SELECT NAME_OF_SCHOOL,Safety_Icon,Family_Involvement_Icon,Environment_Icon,Instruction_Icon,Leaders_Icon,Teachers_Icon FROM PUBLIC_SCHOOLS;\n",
    "       \n"
   ]
  },
  {
   "cell_type": "code",
   "execution_count": 15,
   "id": "c66deeaa-3bc5-4828-a858-4094da7106ed",
   "metadata": {},
   "outputs": [
    {
     "name": "stdout",
     "output_type": "stream",
     "text": [
      " * ibm_db_sa://gxh99884:***@54a2f15b-5c0f-46df-8954-7e38e612c2bd.c1ogj3sd0tgtu0lqde00.databases.appdomain.cloud:32733/bludb\n",
      "Done.\n"
     ]
    },
    {
     "data": {
      "text/html": [
       "<table>\n",
       "    <thead>\n",
       "        <tr>\n",
       "            <th>school_name</th>\n",
       "            <th>safety_rating</th>\n",
       "            <th>family_rating</th>\n",
       "            <th>environment_rating</th>\n",
       "            <th>instruction_rating</th>\n",
       "            <th>leaders_rating</th>\n",
       "            <th>teachers_rating</th>\n",
       "        </tr>\n",
       "    </thead>\n",
       "    <tbody>\n",
       "        <tr>\n",
       "            <td>Abraham Lincoln Elementary School</td>\n",
       "            <td>Very Strong</td>\n",
       "            <td>Very Strong</td>\n",
       "            <td>Strong</td>\n",
       "            <td>Strong</td>\n",
       "            <td>Weak</td>\n",
       "            <td>Strong</td>\n",
       "        </tr>\n",
       "        <tr>\n",
       "            <td>Adam Clayton Powell Paideia Community Academy Elementary School</td>\n",
       "            <td>Average</td>\n",
       "            <td>Strong</td>\n",
       "            <td>Strong</td>\n",
       "            <td>Very Strong</td>\n",
       "            <td>Weak</td>\n",
       "            <td>Strong</td>\n",
       "        </tr>\n",
       "        <tr>\n",
       "            <td>Adlai E Stevenson Elementary School</td>\n",
       "            <td>Strong</td>\n",
       "            <td>NDA</td>\n",
       "            <td>Average</td>\n",
       "            <td>Weak</td>\n",
       "            <td>Weak</td>\n",
       "            <td>NDA</td>\n",
       "        </tr>\n",
       "        <tr>\n",
       "            <td>Agustin Lara Elementary Academy</td>\n",
       "            <td>Average</td>\n",
       "            <td>Average</td>\n",
       "            <td>Average</td>\n",
       "            <td>Weak</td>\n",
       "            <td>Weak</td>\n",
       "            <td>Average</td>\n",
       "        </tr>\n",
       "        <tr>\n",
       "            <td>Air Force Academy High School</td>\n",
       "            <td>Average</td>\n",
       "            <td>Strong</td>\n",
       "            <td>Strong</td>\n",
       "            <td>Average</td>\n",
       "            <td>Weak</td>\n",
       "            <td>Average</td>\n",
       "        </tr>\n",
       "    </tbody>\n",
       "</table>"
      ],
      "text/plain": [
       "[('Abraham Lincoln Elementary School', 'Very Strong', 'Very Strong', 'Strong', 'Strong', 'Weak', 'Strong'),\n",
       " ('Adam Clayton Powell Paideia Community Academy Elementary School', 'Average', 'Strong', 'Strong', 'Very Strong', 'Weak', 'Strong'),\n",
       " ('Adlai E Stevenson Elementary School', 'Strong', 'NDA', 'Average', 'Weak', 'Weak', 'NDA'),\n",
       " ('Agustin Lara Elementary Academy', 'Average', 'Average', 'Average', 'Weak', 'Weak', 'Average'),\n",
       " ('Air Force Academy High School', 'Average', 'Strong', 'Strong', 'Average', 'Weak', 'Average')]"
      ]
     },
     "execution_count": 15,
     "metadata": {},
     "output_type": "execute_result"
    }
   ],
   "source": [
    "%sql SELECT * FROM RATING_TABLE2 limit 5;"
   ]
  },
  {
   "cell_type": "code",
   "execution_count": 16,
   "id": "86a1fcdf-7546-47e2-9702-433dce885e63",
   "metadata": {},
   "outputs": [
    {
     "name": "stdout",
     "output_type": "stream",
     "text": [
      " * ibm_db_sa://gxh99884:***@54a2f15b-5c0f-46df-8954-7e38e612c2bd.c1ogj3sd0tgtu0lqde00.databases.appdomain.cloud:32733/bludb\n",
      "Done.\n"
     ]
    },
    {
     "data": {
      "text/html": [
       "<table>\n",
       "    <thead>\n",
       "        <tr>\n",
       "            <th>school_name</th>\n",
       "            <th>leaders_rating</th>\n",
       "        </tr>\n",
       "    </thead>\n",
       "    <tbody>\n",
       "        <tr>\n",
       "            <td>Abraham Lincoln Elementary School</td>\n",
       "            <td>Weak</td>\n",
       "        </tr>\n",
       "        <tr>\n",
       "            <td>Adam Clayton Powell Paideia Community Academy Elementary School</td>\n",
       "            <td>Weak</td>\n",
       "        </tr>\n",
       "        <tr>\n",
       "            <td>Adlai E Stevenson Elementary School</td>\n",
       "            <td>Weak</td>\n",
       "        </tr>\n",
       "        <tr>\n",
       "            <td>Agustin Lara Elementary Academy</td>\n",
       "            <td>Weak</td>\n",
       "        </tr>\n",
       "        <tr>\n",
       "            <td>Air Force Academy High School</td>\n",
       "            <td>Weak</td>\n",
       "        </tr>\n",
       "    </tbody>\n",
       "</table>"
      ],
      "text/plain": [
       "[('Abraham Lincoln Elementary School', 'Weak'),\n",
       " ('Adam Clayton Powell Paideia Community Academy Elementary School', 'Weak'),\n",
       " ('Adlai E Stevenson Elementary School', 'Weak'),\n",
       " ('Agustin Lara Elementary Academy', 'Weak'),\n",
       " ('Air Force Academy High School', 'Weak')]"
      ]
     },
     "execution_count": 16,
     "metadata": {},
     "output_type": "execute_result"
    }
   ],
   "source": [
    "%sql SELECT school_name,leaders_rating FROM RATING_TABLE2 limit 5;"
   ]
  },
  {
   "cell_type": "code",
   "execution_count": null,
   "id": "9b5c1c24-74ca-42f3-9676-1d6bf4d6d57d",
   "metadata": {},
   "outputs": [],
   "source": [
    "--#SET TERMINATOR @\n",
    "CREATE PROCEDURE TRANSACTION_ROSE                           -- Name of this stored procedure routine\n",
    "\n",
    "LANGUAGE SQL                                                -- Language used in this routine \n",
    "MODIFIES SQL DATA                                           -- This routine will only write/modify data in the table\n",
    "\n",
    "BEGIN\n",
    "\n",
    "        DECLARE SQLCODE INTEGER DEFAULT 0;                  -- Host variable SQLCODE declared and assigned 0\n",
    "        DECLARE retcode INTEGER DEFAULT 0;                  -- Local variable retcode with declared and assigned 0\n",
    "        DECLARE CONTINUE HANDLER FOR SQLEXCEPTION           -- Handler tell the routine what to do when an error or warning occurs\n",
    "        SET retcode = SQLCODE;                              -- Value of SQLCODE assigned to local variable retcode\n",
    "        \n",
    "        UPDATE BankAccounts\n",
    "        SET Balance = Balance-200\n",
    "        WHERE AccountName = 'Rose';\n",
    "        \n",
    "        UPDATE BankAccounts\n",
    "        SET Balance = Balance+200\n",
    "        WHERE AccountName = 'Shoe Shop';\n",
    "        \n",
    "        UPDATE ShoeShop\n",
    "        SET Stock = Stock-1\n",
    "        WHERE Product = 'Boots';\n",
    "        \n",
    "        UPDATE BankAccounts\n",
    "        SET Balance = Balance-300\n",
    "        WHERE AccountName = 'Rose';\n",
    "\n",
    "        \n",
    "        IF retcode < 0 THEN                                  --  SQLCODE returns negative value for error, zero for success, positive value for warning\n",
    "            ROLLBACK WORK;\n",
    "        \n",
    "        ELSE\n",
    "            COMMIT WORK;\n",
    "        \n",
    "        END IF;\n",
    "        \n",
    "END\n",
    "@                                                            -- Routine termination character"
   ]
  }
 ],
 "metadata": {
  "kernelspec": {
   "display_name": "Python",
   "language": "python",
   "name": "conda-env-python-py"
  },
  "language_info": {
   "codemirror_mode": {
    "name": "ipython",
    "version": 3
   },
   "file_extension": ".py",
   "mimetype": "text/x-python",
   "name": "python",
   "nbconvert_exporter": "python",
   "pygments_lexer": "ipython3",
   "version": "3.7.12"
  }
 },
 "nbformat": 4,
 "nbformat_minor": 5
}
